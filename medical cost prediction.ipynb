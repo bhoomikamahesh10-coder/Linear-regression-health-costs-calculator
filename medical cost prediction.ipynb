{
  "nbformat": 4,
  "nbformat_minor": 0,
  "metadata": {
    "colab": {
      "provenance": []
    },
    "kernelspec": {
      "name": "python3",
      "display_name": "Python 3"
    },
    "language_info": {
      "name": "python"
    }
  },
  "cells": [
    {
      "cell_type": "code",
      "execution_count": null,
      "metadata": {
        "id": "yEu-zCzYQsw6"
      },
      "outputs": [],
      "source": [
        "# 📌 Medical Cost Prediction (FreeCodeCamp Project)\n",
        "\n",
        "# Step 1: Import Libraries\n",
        "import tensorflow as tf\n",
        "from tensorflow import keras\n",
        "from tensorflow.keras import layers\n",
        "import pandas as pd\n",
        "import numpy as np\n",
        "from sklearn.model_selection import train_test_split\n",
        "\n",
        "# Step 2: Load Data\n",
        "url = \"https://raw.githubusercontent.com/stedy/Machine-Learning-with-R-datasets/master/insurance.csv\"\n",
        "data = pd.read_csv(url)\n",
        "print(data.head())\n",
        "\n",
        "# Step 3: One-Hot Encode Categorical Columns\n",
        "data = pd.get_dummies(data, columns=[\"sex\", \"smoker\", \"region\"], drop_first=True)\n",
        "\n",
        "# Step 4: Split into Features & Labels\n",
        "labels = data.pop(\"expenses\")  # y\n",
        "features = data                # X\n",
        "\n",
        "# Train-Test Split\n",
        "train_dataset, test_dataset, train_labels, test_labels = train_test_split(\n",
        "    features, labels, test_size=0.2, random_state=42\n",
        ")\n",
        "\n",
        "# Step 5: Normalize Data\n",
        "normalizer = layers.Normalization(axis=-1)\n",
        "normalizer.adapt(np.array(train_dataset))\n",
        "\n",
        "# Step 6: Build Model\n",
        "def build_model():\n",
        "    model = keras.Sequential([\n",
        "        normalizer,\n",
        "        layers.Dense(64, activation=\"relu\"),\n",
        "        layers.Dense(64, activation=\"relu\"),\n",
        "        layers.Dense(1)  # regression output\n",
        "    ])\n",
        "    model.compile(optimizer=\"adam\", loss=\"mae\", metrics=[\"mae\"])\n",
        "    return model\n",
        "\n",
        "model = build_model()\n",
        "\n",
        "# Step 7: Train Model\n",
        "history = model.fit(\n",
        "    train_dataset, train_labels,\n",
        "    epochs=100,\n",
        "    validation_split=0.2,\n",
        "    verbose=0\n",
        ")\n",
        "\n",
        "# Step 8: Evaluate\n",
        "loss, mae = model.evaluate(test_dataset, test_labels, verbose=0)\n",
        "print(f\"\\n✅ Mean Absolute Error on test set: {mae:.2f}\")\n",
        "\n",
        "# Step 9: Predictions\n",
        "preds = model.predict(test_dataset[:10]).flatten()\n",
        "print(\"\\nSample Predictions vs Actual:\")\n",
        "for i in range(10):\n",
        "    print(f\"Predicted: {preds[i]:.2f}, Actual: {test_labels.iloc[i]}\")"
      ]
    }
  ]
}